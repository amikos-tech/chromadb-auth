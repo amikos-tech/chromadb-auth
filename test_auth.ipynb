{
 "cells": [
  {
   "cell_type": "code",
   "execution_count": 11,
   "id": "initial_id",
   "metadata": {
    "collapsed": true,
    "ExecuteTime": {
     "end_time": "2024-04-01T16:54:14.656593Z",
     "start_time": "2024-04-01T16:54:14.599046Z"
    }
   },
   "outputs": [
    {
     "data": {
      "text/plain": "[Collection(name=test_collection)]"
     },
     "execution_count": 11,
     "metadata": {},
     "output_type": "execute_result"
    }
   ],
   "source": [
    "import chromadb\n",
    "from chromadb.config import Settings\n",
    "\n",
    "client = chromadb.HttpClient(\n",
    "    settings=Settings(chroma_client_auth_provider=\"chromadb.auth.basic.BasicAuthClientProvider\",chroma_client_auth_credentials=\"admin:password123\"))\n",
    "client.heartbeat()  # this should work with or without authentication - it is a public endpoint\n",
    "client.get_or_create_collection(\"test_collection\")  # this is a protected endpoint and requires authentication\n",
    "client.list_collections()  # this is a protected endpoint and requires authentication"
   ]
  },
  {
   "cell_type": "code",
   "outputs": [
    {
     "data": {
      "text/plain": "[Collection(name=test_collection)]"
     },
     "execution_count": 12,
     "metadata": {},
     "output_type": "execute_result"
    }
   ],
   "source": [
    "import chromadb\n",
    "from chromadb.config import Settings\n",
    "\n",
    "client = chromadb.HttpClient(\n",
    "    settings=Settings(chroma_client_auth_provider=\"chromadb.auth.basic.BasicAuthClientProvider\",chroma_client_auth_credentials=\"user1:password123\"))\n",
    "client.heartbeat()  # this should work with or without authentication - it is a public endpoint\n",
    "client.get_or_create_collection(\"test_collection\")  # this is a protected endpoint and requires authentication\n",
    "client.list_collections()  # this is a protected endpoint and requires authentication"
   ],
   "metadata": {
    "collapsed": false,
    "ExecuteTime": {
     "end_time": "2024-04-01T16:55:29.970914Z",
     "start_time": "2024-04-01T16:55:29.928692Z"
    }
   },
   "id": "8f51518ef239af97",
   "execution_count": 12
  },
  {
   "cell_type": "code",
   "outputs": [
    {
     "ename": "AuthorizationError",
     "evalue": "Unauthorized",
     "output_type": "error",
     "traceback": [
      "\u001B[0;31m---------------------------------------------------------------------------\u001B[0m",
      "\u001B[0;31mAuthorizationError\u001B[0m                        Traceback (most recent call last)",
      "Cell \u001B[0;32mIn[13], line 4\u001B[0m\n\u001B[1;32m      1\u001B[0m \u001B[38;5;28;01mimport\u001B[39;00m \u001B[38;5;21;01mchromadb\u001B[39;00m\n\u001B[1;32m      2\u001B[0m \u001B[38;5;28;01mfrom\u001B[39;00m \u001B[38;5;21;01mchromadb\u001B[39;00m\u001B[38;5;21;01m.\u001B[39;00m\u001B[38;5;21;01mconfig\u001B[39;00m \u001B[38;5;28;01mimport\u001B[39;00m Settings\n\u001B[0;32m----> 4\u001B[0m client \u001B[38;5;241m=\u001B[39m \u001B[43mchromadb\u001B[49m\u001B[38;5;241;43m.\u001B[39;49m\u001B[43mHttpClient\u001B[49m\u001B[43m(\u001B[49m\n\u001B[1;32m      5\u001B[0m \u001B[43m    \u001B[49m\u001B[43msettings\u001B[49m\u001B[38;5;241;43m=\u001B[39;49m\u001B[43mSettings\u001B[49m\u001B[43m(\u001B[49m\u001B[43mchroma_client_auth_provider\u001B[49m\u001B[38;5;241;43m=\u001B[39;49m\u001B[38;5;124;43m\"\u001B[39;49m\u001B[38;5;124;43mchromadb.auth.basic.BasicAuthClientProvider\u001B[39;49m\u001B[38;5;124;43m\"\u001B[39;49m\u001B[43m,\u001B[49m\u001B[43mchroma_client_auth_credentials\u001B[49m\u001B[38;5;241;43m=\u001B[39;49m\u001B[38;5;124;43m\"\u001B[39;49m\u001B[38;5;124;43minvalid_user:password123\u001B[39;49m\u001B[38;5;124;43m\"\u001B[39;49m\u001B[43m)\u001B[49m\u001B[43m)\u001B[49m\n\u001B[1;32m      6\u001B[0m client\u001B[38;5;241m.\u001B[39mheartbeat()  \u001B[38;5;66;03m# this should work with or without authentication - it is a public endpoint\u001B[39;00m\n\u001B[1;32m      8\u001B[0m client\u001B[38;5;241m.\u001B[39mlist_collections()  \u001B[38;5;66;03m# this is a protected endpoint and requires authentication\u001B[39;00m\n",
      "File \u001B[0;32m~/Library/Caches/pypoetry/virtualenvs/chromadb-multi-user-basic-auth-vIZuPNTE-py3.11/lib/python3.11/site-packages/chromadb/__init__.py:197\u001B[0m, in \u001B[0;36mHttpClient\u001B[0;34m(host, port, ssl, headers, settings, tenant, database)\u001B[0m\n\u001B[1;32m    194\u001B[0m settings\u001B[38;5;241m.\u001B[39mchroma_server_ssl_enabled \u001B[38;5;241m=\u001B[39m ssl\n\u001B[1;32m    195\u001B[0m settings\u001B[38;5;241m.\u001B[39mchroma_server_headers \u001B[38;5;241m=\u001B[39m headers\n\u001B[0;32m--> 197\u001B[0m \u001B[38;5;28;01mreturn\u001B[39;00m \u001B[43mClientCreator\u001B[49m\u001B[43m(\u001B[49m\u001B[43mtenant\u001B[49m\u001B[38;5;241;43m=\u001B[39;49m\u001B[43mtenant\u001B[49m\u001B[43m,\u001B[49m\u001B[43m \u001B[49m\u001B[43mdatabase\u001B[49m\u001B[38;5;241;43m=\u001B[39;49m\u001B[43mdatabase\u001B[49m\u001B[43m,\u001B[49m\u001B[43m \u001B[49m\u001B[43msettings\u001B[49m\u001B[38;5;241;43m=\u001B[39;49m\u001B[43msettings\u001B[49m\u001B[43m)\u001B[49m\n",
      "File \u001B[0;32m~/Library/Caches/pypoetry/virtualenvs/chromadb-multi-user-basic-auth-vIZuPNTE-py3.11/lib/python3.11/site-packages/chromadb/api/client.py:144\u001B[0m, in \u001B[0;36mClient.__init__\u001B[0;34m(self, tenant, database, settings)\u001B[0m\n\u001B[1;32m    142\u001B[0m \u001B[38;5;66;03m# Create an admin client for verifying that databases and tenants exist\u001B[39;00m\n\u001B[1;32m    143\u001B[0m \u001B[38;5;28mself\u001B[39m\u001B[38;5;241m.\u001B[39m_admin_client \u001B[38;5;241m=\u001B[39m AdminClient\u001B[38;5;241m.\u001B[39mfrom_system(\u001B[38;5;28mself\u001B[39m\u001B[38;5;241m.\u001B[39m_system)\n\u001B[0;32m--> 144\u001B[0m \u001B[38;5;28;43mself\u001B[39;49m\u001B[38;5;241;43m.\u001B[39;49m\u001B[43m_validate_tenant_database\u001B[49m\u001B[43m(\u001B[49m\u001B[43mtenant\u001B[49m\u001B[38;5;241;43m=\u001B[39;49m\u001B[43mtenant\u001B[49m\u001B[43m,\u001B[49m\u001B[43m \u001B[49m\u001B[43mdatabase\u001B[49m\u001B[38;5;241;43m=\u001B[39;49m\u001B[43mdatabase\u001B[49m\u001B[43m)\u001B[49m\n\u001B[1;32m    146\u001B[0m \u001B[38;5;66;03m# Get the root system component we want to interact with\u001B[39;00m\n\u001B[1;32m    147\u001B[0m \u001B[38;5;28mself\u001B[39m\u001B[38;5;241m.\u001B[39m_server \u001B[38;5;241m=\u001B[39m \u001B[38;5;28mself\u001B[39m\u001B[38;5;241m.\u001B[39m_system\u001B[38;5;241m.\u001B[39minstance(ServerAPI)\n",
      "File \u001B[0;32m~/Library/Caches/pypoetry/virtualenvs/chromadb-multi-user-basic-auth-vIZuPNTE-py3.11/lib/python3.11/site-packages/chromadb/api/client.py:445\u001B[0m, in \u001B[0;36mClient._validate_tenant_database\u001B[0;34m(self, tenant, database)\u001B[0m\n\u001B[1;32m    443\u001B[0m \u001B[38;5;66;03m# Propagate ChromaErrors\u001B[39;00m\n\u001B[1;32m    444\u001B[0m \u001B[38;5;28;01mexcept\u001B[39;00m ChromaError \u001B[38;5;28;01mas\u001B[39;00m e:\n\u001B[0;32m--> 445\u001B[0m     \u001B[38;5;28;01mraise\u001B[39;00m e\n\u001B[1;32m    446\u001B[0m \u001B[38;5;28;01mexcept\u001B[39;00m \u001B[38;5;167;01mException\u001B[39;00m:\n\u001B[1;32m    447\u001B[0m     \u001B[38;5;28;01mraise\u001B[39;00m \u001B[38;5;167;01mValueError\u001B[39;00m(\n\u001B[1;32m    448\u001B[0m         \u001B[38;5;124mf\u001B[39m\u001B[38;5;124m\"\u001B[39m\u001B[38;5;124mCould not connect to tenant \u001B[39m\u001B[38;5;132;01m{\u001B[39;00mtenant\u001B[38;5;132;01m}\u001B[39;00m\u001B[38;5;124m. Are you sure it exists?\u001B[39m\u001B[38;5;124m\"\u001B[39m\n\u001B[1;32m    449\u001B[0m     )\n",
      "File \u001B[0;32m~/Library/Caches/pypoetry/virtualenvs/chromadb-multi-user-basic-auth-vIZuPNTE-py3.11/lib/python3.11/site-packages/chromadb/api/client.py:438\u001B[0m, in \u001B[0;36mClient._validate_tenant_database\u001B[0;34m(self, tenant, database)\u001B[0m\n\u001B[1;32m    436\u001B[0m \u001B[38;5;28;01mdef\u001B[39;00m \u001B[38;5;21m_validate_tenant_database\u001B[39m(\u001B[38;5;28mself\u001B[39m, tenant: \u001B[38;5;28mstr\u001B[39m, database: \u001B[38;5;28mstr\u001B[39m) \u001B[38;5;241m-\u001B[39m\u001B[38;5;241m>\u001B[39m \u001B[38;5;28;01mNone\u001B[39;00m:\n\u001B[1;32m    437\u001B[0m     \u001B[38;5;28;01mtry\u001B[39;00m:\n\u001B[0;32m--> 438\u001B[0m         \u001B[38;5;28;43mself\u001B[39;49m\u001B[38;5;241;43m.\u001B[39;49m\u001B[43m_admin_client\u001B[49m\u001B[38;5;241;43m.\u001B[39;49m\u001B[43mget_tenant\u001B[49m\u001B[43m(\u001B[49m\u001B[43mname\u001B[49m\u001B[38;5;241;43m=\u001B[39;49m\u001B[43mtenant\u001B[49m\u001B[43m)\u001B[49m\n\u001B[1;32m    439\u001B[0m     \u001B[38;5;28;01mexcept\u001B[39;00m requests\u001B[38;5;241m.\u001B[39mexceptions\u001B[38;5;241m.\u001B[39mConnectionError:\n\u001B[1;32m    440\u001B[0m         \u001B[38;5;28;01mraise\u001B[39;00m \u001B[38;5;167;01mValueError\u001B[39;00m(\n\u001B[1;32m    441\u001B[0m             \u001B[38;5;124m\"\u001B[39m\u001B[38;5;124mCould not connect to a Chroma server. Are you sure it is running?\u001B[39m\u001B[38;5;124m\"\u001B[39m\n\u001B[1;32m    442\u001B[0m         )\n",
      "File \u001B[0;32m~/Library/Caches/pypoetry/virtualenvs/chromadb-multi-user-basic-auth-vIZuPNTE-py3.11/lib/python3.11/site-packages/chromadb/api/client.py:486\u001B[0m, in \u001B[0;36mAdminClient.get_tenant\u001B[0;34m(self, name)\u001B[0m\n\u001B[1;32m    484\u001B[0m \u001B[38;5;129m@override\u001B[39m\n\u001B[1;32m    485\u001B[0m \u001B[38;5;28;01mdef\u001B[39;00m \u001B[38;5;21mget_tenant\u001B[39m(\u001B[38;5;28mself\u001B[39m, name: \u001B[38;5;28mstr\u001B[39m) \u001B[38;5;241m-\u001B[39m\u001B[38;5;241m>\u001B[39m Tenant:\n\u001B[0;32m--> 486\u001B[0m     \u001B[38;5;28;01mreturn\u001B[39;00m \u001B[38;5;28;43mself\u001B[39;49m\u001B[38;5;241;43m.\u001B[39;49m\u001B[43m_server\u001B[49m\u001B[38;5;241;43m.\u001B[39;49m\u001B[43mget_tenant\u001B[49m\u001B[43m(\u001B[49m\u001B[43mname\u001B[49m\u001B[38;5;241;43m=\u001B[39;49m\u001B[43mname\u001B[49m\u001B[43m)\u001B[49m\n",
      "File \u001B[0;32m~/Library/Caches/pypoetry/virtualenvs/chromadb-multi-user-basic-auth-vIZuPNTE-py3.11/lib/python3.11/site-packages/chromadb/telemetry/opentelemetry/__init__.py:127\u001B[0m, in \u001B[0;36mtrace_method.<locals>.decorator.<locals>.wrapper\u001B[0;34m(*args, **kwargs)\u001B[0m\n\u001B[1;32m    125\u001B[0m \u001B[38;5;28;01mglobal\u001B[39;00m tracer, granularity\n\u001B[1;32m    126\u001B[0m \u001B[38;5;28;01mif\u001B[39;00m trace_granularity \u001B[38;5;241m<\u001B[39m granularity:\n\u001B[0;32m--> 127\u001B[0m     \u001B[38;5;28;01mreturn\u001B[39;00m \u001B[43mf\u001B[49m\u001B[43m(\u001B[49m\u001B[38;5;241;43m*\u001B[39;49m\u001B[43margs\u001B[49m\u001B[43m,\u001B[49m\u001B[43m \u001B[49m\u001B[38;5;241;43m*\u001B[39;49m\u001B[38;5;241;43m*\u001B[39;49m\u001B[43mkwargs\u001B[49m\u001B[43m)\u001B[49m\n\u001B[1;32m    128\u001B[0m \u001B[38;5;28;01mif\u001B[39;00m \u001B[38;5;129;01mnot\u001B[39;00m tracer:\n\u001B[1;32m    129\u001B[0m     \u001B[38;5;28;01mreturn\u001B[39;00m f(\u001B[38;5;241m*\u001B[39margs, \u001B[38;5;241m*\u001B[39m\u001B[38;5;241m*\u001B[39mkwargs)\n",
      "File \u001B[0;32m~/Library/Caches/pypoetry/virtualenvs/chromadb-multi-user-basic-auth-vIZuPNTE-py3.11/lib/python3.11/site-packages/chromadb/api/fastapi.py:200\u001B[0m, in \u001B[0;36mFastAPI.get_tenant\u001B[0;34m(self, name)\u001B[0m\n\u001B[1;32m    194\u001B[0m \u001B[38;5;129m@trace_method\u001B[39m(\u001B[38;5;124m\"\u001B[39m\u001B[38;5;124mFastAPI.get_tenant\u001B[39m\u001B[38;5;124m\"\u001B[39m, OpenTelemetryGranularity\u001B[38;5;241m.\u001B[39mOPERATION)\n\u001B[1;32m    195\u001B[0m \u001B[38;5;129m@override\u001B[39m\n\u001B[1;32m    196\u001B[0m \u001B[38;5;28;01mdef\u001B[39;00m \u001B[38;5;21mget_tenant\u001B[39m(\u001B[38;5;28mself\u001B[39m, name: \u001B[38;5;28mstr\u001B[39m) \u001B[38;5;241m-\u001B[39m\u001B[38;5;241m>\u001B[39m Tenant:\n\u001B[1;32m    197\u001B[0m     resp \u001B[38;5;241m=\u001B[39m \u001B[38;5;28mself\u001B[39m\u001B[38;5;241m.\u001B[39m_session\u001B[38;5;241m.\u001B[39mget(\n\u001B[1;32m    198\u001B[0m         \u001B[38;5;28mself\u001B[39m\u001B[38;5;241m.\u001B[39m_api_url \u001B[38;5;241m+\u001B[39m \u001B[38;5;124m\"\u001B[39m\u001B[38;5;124m/tenants/\u001B[39m\u001B[38;5;124m\"\u001B[39m \u001B[38;5;241m+\u001B[39m name,\n\u001B[1;32m    199\u001B[0m     )\n\u001B[0;32m--> 200\u001B[0m     \u001B[43mraise_chroma_error\u001B[49m\u001B[43m(\u001B[49m\u001B[43mresp\u001B[49m\u001B[43m)\u001B[49m\n\u001B[1;32m    201\u001B[0m     resp_json \u001B[38;5;241m=\u001B[39m json\u001B[38;5;241m.\u001B[39mloads(resp\u001B[38;5;241m.\u001B[39mtext)\n\u001B[1;32m    202\u001B[0m     \u001B[38;5;28;01mreturn\u001B[39;00m Tenant(name\u001B[38;5;241m=\u001B[39mresp_json[\u001B[38;5;124m\"\u001B[39m\u001B[38;5;124mname\u001B[39m\u001B[38;5;124m\"\u001B[39m])\n",
      "File \u001B[0;32m~/Library/Caches/pypoetry/virtualenvs/chromadb-multi-user-basic-auth-vIZuPNTE-py3.11/lib/python3.11/site-packages/chromadb/api/fastapi.py:649\u001B[0m, in \u001B[0;36mraise_chroma_error\u001B[0;34m(resp)\u001B[0m\n\u001B[1;32m    646\u001B[0m     \u001B[38;5;28;01mpass\u001B[39;00m\n\u001B[1;32m    648\u001B[0m \u001B[38;5;28;01mif\u001B[39;00m chroma_error:\n\u001B[0;32m--> 649\u001B[0m     \u001B[38;5;28;01mraise\u001B[39;00m chroma_error\n\u001B[1;32m    651\u001B[0m \u001B[38;5;28;01mtry\u001B[39;00m:\n\u001B[1;32m    652\u001B[0m     resp\u001B[38;5;241m.\u001B[39mraise_for_status()\n",
      "\u001B[0;31mAuthorizationError\u001B[0m: Unauthorized"
     ]
    }
   ],
   "source": [
    "import chromadb\n",
    "from chromadb.config import Settings\n",
    "\n",
    "client = chromadb.HttpClient(\n",
    "    settings=Settings(chroma_client_auth_provider=\"chromadb.auth.basic.BasicAuthClientProvider\",chroma_client_auth_credentials=\"invalid_user:password123\"))\n",
    "client.heartbeat()  # this should work with or without authentication - it is a public endpoint\n",
    "\n",
    "client.list_collections()  # this is a protected endpoint and requires authentication"
   ],
   "metadata": {
    "collapsed": false,
    "ExecuteTime": {
     "end_time": "2024-04-01T16:57:06.892505Z",
     "start_time": "2024-04-01T16:57:06.842638Z"
    }
   },
   "id": "50dcab1daed5b7af",
   "execution_count": 13
  },
  {
   "cell_type": "code",
   "outputs": [],
   "source": [],
   "metadata": {
    "collapsed": false
   },
   "id": "e73b1d1882ce0dcf"
  }
 ],
 "metadata": {
  "kernelspec": {
   "display_name": "Python 3",
   "language": "python",
   "name": "python3"
  },
  "language_info": {
   "codemirror_mode": {
    "name": "ipython",
    "version": 2
   },
   "file_extension": ".py",
   "mimetype": "text/x-python",
   "name": "python",
   "nbconvert_exporter": "python",
   "pygments_lexer": "ipython2",
   "version": "2.7.6"
  }
 },
 "nbformat": 4,
 "nbformat_minor": 5
}
